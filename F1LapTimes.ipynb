{
 "cells": [
  {
   "cell_type": "code",
   "execution_count": null,
   "metadata": {},
   "outputs": [],
   "source": [
    "import os\n",
    "import pandas as pd\n",
    "import numpy as np"
   ]
  },
  {
   "cell_type": "code",
   "execution_count": null,
   "metadata": {},
   "outputs": [],
   "source": [
    "laptimes_df = pd.read_csv('F1KaggleData/laptimes.csv')\n",
    "races_df = pd.read_csv('F1KaggleData/races.csv')\n",
    "drivers_df = pd.read_csv('F1KaggleData/drivers.csv')"
   ]
  },
  {
   "cell_type": "code",
   "execution_count": null,
   "metadata": {},
   "outputs": [],
   "source": [
    "display(drivers_df.sample(10))"
   ]
  },
  {
   "cell_type": "code",
   "execution_count": null,
   "metadata": {
    "scrolled": true
   },
   "outputs": [],
   "source": [
    "races_narrow_df = races_df[['raceId', 'year', 'name']]\n",
    "drivers_narrow_df = drivers_df[['driverId','driverRef']]\n",
    "\n",
    "enriched_laptimes_df = pd.merge(laptimes_df, races_narrow_df, on='raceId')\n",
    "enriched_laptimes_df = pd.merge(enriched_laptimes_df, drivers_narrow_df, on='driverId')\n",
    "\n",
    "display(enriched_laptimes_df.sample(10))"
   ]
  },
  {
   "cell_type": "code",
   "execution_count": null,
   "metadata": {},
   "outputs": [],
   "source": [
    "import ipywidgets as widgets\n",
    "from IPython.display import clear_output\n",
    "\n",
    "min_year = enriched_laptimes_df['year'].min()\n",
    "max_year = enriched_laptimes_df['year'].max()\n",
    "\n",
    "year_slider = widgets.IntSlider(\n",
    "                        min=int(enriched_laptimes_df['year'].min()),\n",
    "                        max=int(enriched_laptimes_df['year'].max()),\n",
    "                        step=1,\n",
    "                        description='Year:',\n",
    "                        value=2016)\n",
    "\n",
    "display(year_slider)\n",
    "\n",
    "grand_prix_names = enriched_laptimes_df['name'].unique()"
   ]
  },
  {
   "cell_type": "code",
   "execution_count": null,
   "metadata": {},
   "outputs": [],
   "source": [
    "display(enriched_laptimes_df.sample(4))"
   ]
  },
  {
   "cell_type": "code",
   "execution_count": null,
   "metadata": {},
   "outputs": [],
   "source": [
    "import matplotlib.pyplot as plt \n",
    "\n",
    "def get_driver_laptimes(laptimes_df, year, gp_name):\n",
    "    \n",
    "    return laptimes_df.loc[(laptimes_df['year'] == year) & \n",
    "                           (laptimes_df['name'] == gp_name)]\n",
    "\n",
    "def plot_driver_positions_during_race(all_drivers_positions):\n",
    "    \n",
    "    # position_during_race.set_index('lap', inplace=True)\n",
    "    # display(position_during_race)\n",
    "    plt.style.use('seaborn-darkgrid')\n",
    "    my_dpi=96\n",
    "    plt.figure(figsize=(1000/my_dpi, 1000/my_dpi), dpi=my_dpi)\n",
    "    ax = all_drivers_positions.plot()\n",
    "    ax.set_ylim(0.5, len(all_drivers_positions.columns) + 1)\n",
    "    plt.set_xlabel = 'lap'\n",
    "    plt.set_ylabel = 'position'\n",
    "    \n",
    "    # plt.yticks(get_driver_positions_for_lap(all_drivers_positions, 1))\n",
    "    plt.yticks(np.arange(1, len(all_drivers_positions.columns) + 1, 1), get_driver_positions_for_lap(all_drivers_positions, 1))\n",
    "    plt.gca().invert_yaxis()\n",
    "    plt.rcParams[\"figure.figsize\"]=20,20\n",
    "    plt.show()"
   ]
  },
  {
   "cell_type": "code",
   "execution_count": null,
   "metadata": {
    "scrolled": true
   },
   "outputs": [],
   "source": [
    "import copy\n",
    "\n",
    "all_laptimes_for_race_df = get_driver_laptimes(enriched_laptimes_df, 2016, 'British Grand Prix')\n",
    "# display(all_laptimes_for_race_df)\n",
    "drivers_who_raced_that_gp = all_laptimes_for_race_df['driverRef'].unique()\n",
    "# display(drivers_who_raced_that_gp)\n",
    "\n",
    "all_drivers_positions = pd.DataFrame()\n",
    "\n",
    "x = True\n",
    "\n",
    "for driver in drivers_who_raced_that_gp:\n",
    "\n",
    "    driver_laptimes_df = all_laptimes_for_race_df.loc[(all_laptimes_for_race_df['driverRef'] == driver)]\n",
    "    race_positions = copy.copy(driver_laptimes_df[['lap', 'position']])\n",
    "    race_positions.set_index('lap', inplace=True)\n",
    "    race_positions.rename(columns = {'position':driver}, inplace = True)\n",
    "    \n",
    "    if x: \n",
    "        all_drivers_positions = race_positions\n",
    "        x = False\n",
    "    else:\n",
    "        all_drivers_positions = pd.merge(all_drivers_positions, race_positions, on='lap', how='left')\n",
    "\n",
    "       \n",
    "plt.rcParams[\"figure.figsize\"]=20,20\n",
    "plot_driver_positions_during_race(all_drivers_positions)"
   ]
  },
  {
   "cell_type": "code",
   "execution_count": null,
   "metadata": {},
   "outputs": [],
   "source": [
    "def get_race_id(races_df, year, gp_name):\n",
    "    \n",
    "    return int(races_df.loc[(races_df['year'] == year) & (races_df['name'] == gp_name)]['raceId'])\n",
    "\n",
    "display(get_race_id(races_df, 2016, 'German Grand Prix'))"
   ]
  },
  {
   "cell_type": "code",
   "execution_count": null,
   "metadata": {},
   "outputs": [],
   "source": [
    "results_df = pd.read_csv('F1KaggleData/results.csv')\n",
    "results_df = pd.merge(results_df[['raceId', 'driverId', 'positionOrder']], drivers_df[['driverId', 'driverRef']], on='driverId')"
   ]
  },
  {
   "cell_type": "code",
   "execution_count": null,
   "metadata": {
    "scrolled": true
   },
   "outputs": [],
   "source": [
    "# if the driver fails to finish the race, they stop in the position they were as they don't set another lap.   \n",
    "# However when this happens there might be a cheat which is to look up in the results table for that race and \n",
    "# fill in the rest so we get all positions in the correct order for the retirees?\n",
    "results_for_race = results_df.loc[results_df['raceId'] == get_race_id(races_df, 2016, 'British Grand Prix')]\n",
    "results_for_race.set_index('driverRef', inplace=True)\n",
    "\n",
    "for driver in drivers_who_raced_that_gp:\n",
    "    \n",
    "    finish_pos = results_for_race.loc[driver]['positionOrder']\n",
    "    all_drivers_positions.loc[:,driver].fillna(finish_pos, inplace=True)\n",
    "\n",
    "# display(all_drivers_positions)\n",
    "plt.rcParams[\"figure.figsize\"]=15,10\n",
    "plot_driver_positions_during_race(all_drivers_positions)    "
   ]
  },
  {
   "cell_type": "code",
   "execution_count": null,
   "metadata": {},
   "outputs": [],
   "source": [
    "# get the positions on a given lap.  Ideally I want to use this for the first lap so I can label the y ticks correctly as \n",
    "# at the moment some of the colours are very similar and being able to trace from the start would be very helpful \n",
    "\n",
    "def get_driver_positions_for_lap(all_drivers_positions: pd.DataFrame, lap: int):\n",
    "    return list(all_drivers_positions.iloc[1].sort_values().index)\n",
    "    \n",
    "positions_on_first_lap = get_driver_positions_for_lap(all_drivers_positions, 1)\n",
    "\n",
    "display(positions_on_first_lap)\n",
    "\n",
    "x = list(zip(range(1, len(positions_on_first_lap)), positions_on_first_lap))\n",
    "\n",
    "display(x)"
   ]
  },
  {
   "cell_type": "code",
   "execution_count": null,
   "metadata": {},
   "outputs": [],
   "source": [
    "# libraries and data\n",
    "import matplotlib.pyplot as plt\n",
    "import numpy as np\n",
    "import pandas as pd\n",
    " \n",
    "# Make a data frame\n",
    "df=pd.DataFrame({'x': range(1,11), 'y1': np.random.randn(10), 'y2': np.random.randn(10)+range(1,11), 'y3': np.random.randn(10)+range(11,21), 'y4': np.random.randn(10)+range(6,16), 'y5': np.random.randn(10)+range(4,14)+(0,0,0,0,0,0,0,-3,-8,-6), 'y6': np.random.randn(10)+range(2,12), 'y7': np.random.randn(10)+range(5,15), 'y8': np.random.randn(10)+range(4,14) })\n",
    "\n",
    "display(df)\n",
    "\n",
    "#plt.style.use('fivethirtyeight')\n",
    "plt.style.use('seaborn-darkgrid')\n",
    "my_dpi=96\n",
    "plt.figure(figsize=(480/my_dpi, 480/my_dpi), dpi=my_dpi)\n",
    " \n",
    "# multiple line plot\n",
    "for column in df.drop('x', axis=1):\n",
    "   plt.plot(df['x'], df[column], marker='', color='grey', linewidth=1, alpha=0.4)\n",
    " \n",
    "# Now re do the interesting curve, but biger with distinct color\n",
    "plt.plot(df['x'], df['y5'], marker='', color='orange', linewidth=4, alpha=0.7)\n",
    " \n",
    "# Change xlim\n",
    "plt.xlim(0,12)\n",
    " \n",
    "# Let's annotate the plot\n",
    "num=0\n",
    "for i in df.values[9][1:]:\n",
    "   num+=1\n",
    "   name=list(df)[num]\n",
    "   if name != 'y5':\n",
    "      plt.text(10.2, i, name, horizontalalignment='left', size='small', color='grey')\n",
    " \n",
    "# And add a special annotation for the group we are interested in\n",
    "plt.text(10.2, df.y5.tail(1), 'Mr Orange', horizontalalignment='left', size='small', color='orange')\n",
    " \n",
    "# Add titles\n",
    "plt.title(\"Evolution of Mr Orange vs other students\", loc='left', fontsize=12, fontweight=0, color='orange')\n",
    "plt.xlabel(\"Time\")\n",
    "plt.ylabel(\"Score\")\n"
   ]
  },
  {
   "cell_type": "code",
   "execution_count": null,
   "metadata": {},
   "outputs": [],
   "source": [
    "from IPython.core.display import display, HTML\n",
    "display(HTML(\"<style>.container { width:100% !important; }</style>\"))\n",
    "\n",
    "# libraries and data\n",
    "import matplotlib.pyplot as plt\n",
    "import numpy as np\n",
    "import pandas as pd\n",
    " \n",
    "# Make a data frame\n",
    "df=pd.DataFrame({'x': range(1,11), 'y1': np.random.randn(10), 'y2': np.random.randn(10)+range(1,11), 'y3': np.random.randn(10)+range(11,21), 'y4': np.random.randn(10)+range(6,16), 'y5': np.random.randn(10)+range(4,14)+(0,0,0,0,0,0,0,-3,-8,-6), 'y6': np.random.randn(10)+range(2,12), 'y7': np.random.randn(10)+range(5,15), 'y8': np.random.randn(10)+range(4,14), 'y9': np.random.randn(10)+range(4,14) })\n",
    " \n",
    "# Initialize the figure\n",
    "plt.style.use('seaborn-darkgrid')\n",
    " \n",
    "# create a color palette\n",
    "palette = plt.get_cmap('Set1')\n",
    " \n",
    "# multiple line plot\n",
    "num=0\n",
    "for column in df.drop('x', axis=1):\n",
    "    num+=1\n",
    " \n",
    "    # Find the right spot on the plot\n",
    "    plt.subplot(3,3, num)\n",
    " \n",
    "    # plot every groups, but discreet\n",
    "    for v in df.drop('x', axis=1):\n",
    "        plt.plot(df['x'], df[v], marker='', color='grey', linewidth=0.6, alpha=0.3)\n",
    " \n",
    "    # Plot the lineplot\n",
    "    plt.plot(df['x'], df[column], marker='', color=palette(num), linewidth=2.4, alpha=0.9, label=column)\n",
    " \n",
    "    # Same limits for everybody!\n",
    "    plt.xlim(0,10)\n",
    "    plt.ylim(-2,22)\n",
    " \n",
    "    # Not ticks everywhere\n",
    "    if num in range(7) :\n",
    "        plt.tick_params(labelbottom='off')\n",
    "    if num not in [1,4,7] :\n",
    "        plt.tick_params(labelleft='off')\n",
    " \n",
    "    # Add title\n",
    "    plt.title(column, loc='left', fontsize=12, fontweight=0, color=palette(num) )\n",
    " \n",
    "# general title\n",
    "plt.suptitle(\"How the 9 students improved\\nthese past few days?\", fontsize=13, fontweight=0, color='black', style='italic', y=1.02)\n",
    " \n",
    "# Axis title\n",
    "plt.text(0.5, 0.02, 'Time', ha='center', va='center')\n",
    "plt.text(0.06, 0.5, 'Note', ha='center', va='center', rotation='vertical')\n",
    "\n",
    "plt.rcParams[\"figure.figsize\"]=100,100"
   ]
  }
 ],
 "metadata": {
  "kernelspec": {
   "display_name": "Python 3",
   "language": "python",
   "name": "python3"
  },
  "language_info": {
   "codemirror_mode": {
    "name": "ipython",
    "version": 3
   },
   "file_extension": ".py",
   "mimetype": "text/x-python",
   "name": "python",
   "nbconvert_exporter": "python",
   "pygments_lexer": "ipython3",
   "version": "3.7.3"
  }
 },
 "nbformat": 4,
 "nbformat_minor": 2
}
