{
 "cells": [
  {
   "cell_type": "code",
   "execution_count": null,
   "metadata": {},
   "outputs": [],
   "source": [
    "import os\n",
    "import pandas as pd\n",
    "import numpy as np\n"
   ]
  },
  {
   "cell_type": "code",
   "execution_count": null,
   "metadata": {},
   "outputs": [],
   "source": [
    "pitstops_df = pd.read_csv('F1KaggleData/pitStops.csv')"
   ]
  },
  {
   "cell_type": "code",
   "execution_count": null,
   "metadata": {},
   "outputs": [],
   "source": [
    "display(pitstops_df.sample(10))\n",
    "\n",
    "pitstops_df.describe()\n",
    "\n",
    "earliest_race = pitstops_df['raceId'].min()\n",
    "latest_race = pitstops_df['raceId'].max()\n",
    "\n",
    "display('Earliest race: {} Latest race: {}'.format(earliest_race, latest_race))"
   ]
  },
  {
   "cell_type": "code",
   "execution_count": null,
   "metadata": {},
   "outputs": [],
   "source": []
  },
  {
   "cell_type": "code",
   "execution_count": null,
   "metadata": {},
   "outputs": [],
   "source": [
    "# now lets work out the races we are talking about to see what the data spans over \n",
    "\n",
    "races_df = pd.read_csv('F1KaggleData/races.csv')\n",
    "display(races_df.sample(10))\n",
    "\n",
    "display(races_df.loc[races_df['raceId'] == earliest_race])\n",
    "display(races_df.loc[races_df['raceId'] == latest_race])\n",
    "\n",
    "display(races_df.loc[races_df['raceId'] == 858])\n",
    "# ok, this is enough data to work with \n",
    "display(races_df.loc[858])\n",
    "\n",
    "\n"
   ]
  },
  {
   "cell_type": "code",
   "execution_count": null,
   "metadata": {},
   "outputs": [],
   "source": [
    "# there looks like there is some weird data, where the pit stops take waaay too long\n",
    "pitstops_df.sort_values('milliseconds', ascending=True, inplace=True)\n",
    "\n",
    "display(pitstops_df.head(10))\n",
    "\n",
    "drivers_df = pd.read_csv('F1KaggleData/drivers.csv')\n",
    "display(drivers_df.head(2))\n",
    "driver_with_the_short_stop = drivers_df.loc[drivers_df['driverId'] == 813]\n",
    "display(driver_with_the_short_stop)"
   ]
  },
  {
   "cell_type": "code",
   "execution_count": null,
   "metadata": {},
   "outputs": [],
   "source": [
    "canada_2016_race_id = races_df.loc[(races_df['name'] == 'Canadian Grand Prix') & (races_df['year'] == 2016)]['raceId']\n",
    "\n",
    "display(int(canada_2016_race_id))\n",
    "\n",
    "pitstops_df.loc[pitstops_df['raceId'] == int(canada_2016_race_id)]"
   ]
  },
  {
   "cell_type": "code",
   "execution_count": null,
   "metadata": {},
   "outputs": [],
   "source": [
    "import ipywidgets as widgets\n",
    "from IPython.display import clear_output\n",
    "\n",
    "# display(pitstops_df.sample(5))\n",
    "# display(races_df.sample(5))\n",
    "\n",
    "narrow_races = races_df[['raceId','year', 'name']]\n",
    "# display(narrow_races.sample(5))\n",
    "# display(narrow_races.describe())\n",
    "\n",
    "pitstops_2_df = pd.merge(pitstops_df, narrow_races, on='raceId') \n",
    "display(pitstops_2_df.sample(10))\n",
    "display(pitstops_2_df.describe())\n",
    "\n",
    "valid_pitstop_years = pitstops_2_df['year'].unique\n",
    "valid_pitstop_gp_names = pitstops_2_df['name'].unique\n"
   ]
  },
  {
   "cell_type": "code",
   "execution_count": null,
   "metadata": {},
   "outputs": [],
   "source": [
    "def race_name_dropdown_eventhandler(change):\n",
    "\n",
    "    with out:\n",
    "        clear_output()\n",
    "        \n",
    "        races_df.loc[(races_df['name'] == 'Canadian Grand Prix') & (races_df['year'] == 2016)]['raceId']\n",
    "        display(year_slider.value)\n",
    "        pitstops_for_chosen_gp_df = pitstops_2_df.loc[(pitstops_2_df['name'] == change.new) & (pitstops_2_df['year'] == year_slider.value)]\n",
    "        display(pitstops_for_chosen_gp_df)\n",
    "\n",
    "\n",
    "valid_pitstop_years = pitstops_2_df['year'].unique()\n",
    "valid_pitstop_gp_names = pitstops_2_df['name'].unique()\n",
    "\n",
    "\n",
    "year_slider = widgets.IntSlider(\n",
    "                        min=int(pitstops_2_df['year'].min()),\n",
    "                        max=int(pitstops_2_df['year'].max()),\n",
    "                        step=1,\n",
    "                        description='Year:',\n",
    "                        value=3)\n",
    "\n",
    "display(year_slider)\n",
    "\n",
    "race_name_dropdown = widgets.Dropdown(options=valid_pitstop_gp_names,\n",
    "                                    description='Select Grand Prix: ', disabled=False)\n",
    "\n",
    "display(race_name_dropdown)\n",
    "out = widgets.Output()\n",
    "display(out)\n",
    "\n",
    "race_name_dropdown.observe(race_name_dropdown_eventhandler, names='value')\n"
   ]
  },
  {
   "cell_type": "code",
   "execution_count": null,
   "metadata": {},
   "outputs": [],
   "source": []
  },
  {
   "cell_type": "code",
   "execution_count": null,
   "metadata": {},
   "outputs": [],
   "source": [
    "# !pip install qgrid\n",
    "\n",
    "\n",
    "import qgrid\n",
    "\n",
    "#qgrid.nbinstall(overwrite=True)  # copies javascript dependencies to your /nbextensions folder\n",
    "#qgrid.set_defaults(remote_js=True)\n",
    "\n",
    "# display(pitstops_2_df.sample(5))\n",
    "qgrid.show_grid(pitstops_2_df, show_toolbar=False)\n",
    "\n"
   ]
  },
  {
   "cell_type": "code",
   "execution_count": null,
   "metadata": {
    "scrolled": true
   },
   "outputs": [],
   "source": [
    "from ipywidgets import interact, interact_manual\n",
    "import copy\n",
    "\n",
    "@interact\n",
    "def show_pitstops_more_than(column='milliseconds', x=60000):\n",
    "    r = copy.deepcopy(pitstops_2_df.loc[pitstops_2_df[column] > x])\n",
    "    r.sort_values('milliseconds', ascending=False, inplace=True)\n",
    "    return r"
   ]
  }
 ],
 "metadata": {
  "kernelspec": {
   "display_name": "Python 3",
   "language": "python",
   "name": "python3"
  },
  "language_info": {
   "codemirror_mode": {
    "name": "ipython",
    "version": 3
   },
   "file_extension": ".py",
   "mimetype": "text/x-python",
   "name": "python",
   "nbconvert_exporter": "python",
   "pygments_lexer": "ipython3",
   "version": "3.7.3"
  }
 },
 "nbformat": 4,
 "nbformat_minor": 2
}
