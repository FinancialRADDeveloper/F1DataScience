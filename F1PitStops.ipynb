{
 "cells": [
  {
   "cell_type": "code",
   "execution_count": null,
   "metadata": {},
   "outputs": [],
   "source": [
    "import os\n",
    "import pandas as pd\n",
    "import numpy as np\n"
   ]
  },
  {
   "cell_type": "code",
   "execution_count": null,
   "metadata": {},
   "outputs": [],
   "source": [
    "pitstops_df = pd.read_csv('F1KaggleData/pitStops.csv')"
   ]
  },
  {
   "cell_type": "code",
   "execution_count": null,
   "metadata": {},
   "outputs": [],
   "source": [
    "display(pitstops_df.sample(10))\n",
    "\n",
    "pitstops_df.describe()\n",
    "\n",
    "earliest_race = pitstops_df['raceId'].min()\n",
    "latest_race = pitstops_df['raceId'].max()\n",
    "\n",
    "display('Earliest race: {} Latest race: {}'.format(earliest_race, latest_race))"
   ]
  },
  {
   "cell_type": "code",
   "execution_count": null,
   "metadata": {},
   "outputs": [],
   "source": []
  },
  {
   "cell_type": "code",
   "execution_count": null,
   "metadata": {},
   "outputs": [],
   "source": [
    "# now lets work out the races we are talking about to see what the data spans over \n",
    "\n",
    "races_df = pd.read_csv('F1KaggleData/races.csv')\n",
    "display(races_df.sample(10))\n",
    "\n",
    "display(races_df.loc[races_df['raceId'] == earliest_race])\n",
    "display(races_df.loc[races_df['raceId'] == latest_race])\n",
    "\n",
    "display(races_df.loc[races_df['raceId'] == 858])\n",
    "# ok, this is enough data to work with \n",
    "display(races_df.loc[858])\n",
    "\n",
    "\n"
   ]
  },
  {
   "cell_type": "code",
   "execution_count": null,
   "metadata": {},
   "outputs": [],
   "source": [
    "# there looks like there is some weird data, where the pit stops take waaay too long\n",
    "pitstops_df.sort_values('milliseconds', ascending=True, inplace=True)\n",
    "\n",
    "display(pitstops_df.head(10))\n",
    "\n",
    "drivers_df = pd.read_csv('F1KaggleData/drivers.csv')\n",
    "display(drivers_df.head(2))\n",
    "driver_with_the_short_stop = drivers_df.loc[drivers_df['driverId'] == 813]\n",
    "display(driver_with_the_short_stop)"
   ]
  }
 ],
 "metadata": {
  "kernelspec": {
   "display_name": "Python 3",
   "language": "python",
   "name": "python3"
  },
  "language_info": {
   "codemirror_mode": {
    "name": "ipython",
    "version": 3
   },
   "file_extension": ".py",
   "mimetype": "text/x-python",
   "name": "python",
   "nbconvert_exporter": "python",
   "pygments_lexer": "ipython3",
   "version": "3.7.3"
  }
 },
 "nbformat": 4,
 "nbformat_minor": 2
}
