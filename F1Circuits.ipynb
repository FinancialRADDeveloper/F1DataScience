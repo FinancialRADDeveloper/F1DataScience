{
 "cells": [
  {
   "cell_type": "code",
   "execution_count": null,
   "metadata": {},
   "outputs": [],
   "source": [
    "# basics first... who has hosted the most.  Track only not country \n",
    "\n",
    "import os\n",
    "import pandas as pd\n",
    "import numpy as np\n"
   ]
  },
  {
   "cell_type": "markdown",
   "metadata": {},
   "source": [
    "Interesting question... \"Which 'GP' has been hosted at the most different circuits?\"  My Guess is the \"European\" "
   ]
  },
  {
   "cell_type": "code",
   "execution_count": null,
   "metadata": {},
   "outputs": [],
   "source": [
    "circuits_df = pd.read_csv('F1KaggleData/circuits.csv')\n",
    "races_df = pd.read_csv('F1KaggleData/races.csv')"
   ]
  },
  {
   "cell_type": "code",
   "execution_count": null,
   "metadata": {},
   "outputs": [],
   "source": [
    "display(circuits_df.sample(10))\n",
    "display(races_df.sample(10))"
   ]
  },
  {
   "cell_type": "code",
   "execution_count": null,
   "metadata": {
    "scrolled": false
   },
   "outputs": [],
   "source": [
    "display(len(races_df))\n",
    "merged_df = pd.merge(races_df, circuits_df[['circuitId', 'name', 'country']], on='circuitId')\n",
    "display(merged_df.sample(5))\n",
    "\n",
    "display(merged_df['name_x'].value_counts())\n",
    "display(merged_df['name_y'].value_counts())"
   ]
  },
  {
   "cell_type": "code",
   "execution_count": null,
   "metadata": {
    "scrolled": true
   },
   "outputs": [],
   "source": [
    "# for a given GP we need a list of the tracks where it has taken place.    For example the \n",
    "# British GP has taken place At Silverstone, Brands Hatch and Donnington from my own memory \n",
    "\n",
    "pd.set_option('display.max_colwidth', -1)\n",
    "display(merged_df.sample(5))\n",
    "\n",
    "unique_gp = merged_df.groupby(['name_x'])['name_y'].unique().to_frame()\n",
    "unique_gp.rename(columns={'name_y': 'Circuit'}, inplace=True)\n",
    "unique_gp.index.names = ['GrandPrix']\n",
    "\n",
    "unique_gp['different_circuits'] = unique_gp['Circuit'].str.len()\n",
    "unique_gp.sort_values('different_circuits', ascending=False, inplace=True)\n",
    "\n",
    "display(\"Total number of distinct Grand Prix: {}\".format(len(unique_gp)))\n",
    "display(unique_gp)\n"
   ]
  }
 ],
 "metadata": {
  "kernelspec": {
   "display_name": "Python 3",
   "language": "python",
   "name": "python3"
  },
  "language_info": {
   "codemirror_mode": {
    "name": "ipython",
    "version": 3
   },
   "file_extension": ".py",
   "mimetype": "text/x-python",
   "name": "python",
   "nbconvert_exporter": "python",
   "pygments_lexer": "ipython3",
   "version": "3.7.3"
  }
 },
 "nbformat": 4,
 "nbformat_minor": 2
}
