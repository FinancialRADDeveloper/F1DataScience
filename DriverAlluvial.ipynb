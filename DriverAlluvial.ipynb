{
 "cells": [
  {
   "cell_type": "code",
   "execution_count": null,
   "metadata": {},
   "outputs": [],
   "source": [
    "import os\n",
    "import pandas as pd\n",
    "import numpy as np"
   ]
  },
  {
   "cell_type": "code",
   "execution_count": null,
   "metadata": {},
   "outputs": [],
   "source": [
    "drivers_df = pd.read_csv('F1KaggleData/drivers.csv')\n",
    "races_df = pd.read_csv('F1KaggleData/races.csv')\n",
    "circuits_df = pd.read_csv('F1KaggleData/circuits.csv')\n",
    "results_df = pd.read_csv('F1KaggleData/results.csv')\n"
   ]
  },
  {
   "cell_type": "code",
   "execution_count": null,
   "metadata": {},
   "outputs": [],
   "source": [
    "display(drivers_df.sample(5))\n",
    "# display(races_df.head(5))\n",
    "# display(circuits_df.head(5))\n",
    "# display(results_df.head(5))\n"
   ]
  },
  {
   "cell_type": "code",
   "execution_count": null,
   "metadata": {},
   "outputs": [],
   "source": [
    "drivers_df.loc[drivers_df['driverRef'] == 'hamilton']"
   ]
  },
  {
   "cell_type": "code",
   "execution_count": null,
   "metadata": {},
   "outputs": [],
   "source": [
    "def driver_finishing_in_top_n(driverId: int, n: int, results_df:pd.DataFrame):\n",
    "\n",
    "    positions = [float(i) for i in list(range(1, n+1))]\n",
    "    # display(positions)\n",
    "    positions_df = results_df[results_df['position'].isin(positions)]\n",
    "    return positions_df.loc[positions_df['driverId'] == driverId]\n",
    "    \n",
    "    \n",
    "    \n",
    "driver_results_df = driver_finishing_in_top_n(1, 1, results_df)\n",
    "# display(driver_results_df.sample(10))\n",
    "\n",
    "wins_per_constructor_df = driver_results_df['constructorId'].value_counts().to_frame()\n",
    "wins_per_constructor_df = wins_per_constructor_df.reset_index()\n",
    "wins_per_constructor_df.rename(columns = {'index':'constructorId', 'constructorId':'frequency'}, inplace = True) \n",
    "display(wins_per_constructor_df)\n"
   ]
  },
  {
   "cell_type": "code",
   "execution_count": null,
   "metadata": {},
   "outputs": [],
   "source": [
    "constructor_df = pd.read_csv('F1KaggleData/constructors.csv')\n",
    "display(constructor_df.sample(5))\n",
    "\n",
    "constructor_df_lite = constructor_df[['constructorId', 'constructorRef']]\n",
    "display(constructor_df_lite.sample(10))\n",
    "\n",
    "display()"
   ]
  },
  {
   "cell_type": "code",
   "execution_count": null,
   "metadata": {},
   "outputs": [],
   "source": [
    "def get_constructor_name(constructorId: int) -> str:\n",
    "    \n",
    "    return constructor_df.loc[constructor_df['constructorId']==constructorId]\n",
    "\n"
   ]
  },
  {
   "cell_type": "code",
   "execution_count": null,
   "metadata": {},
   "outputs": [],
   "source": []
  },
  {
   "cell_type": "code",
   "execution_count": null,
   "metadata": {},
   "outputs": [],
   "source": [
    "def get_driver_ref(driverId: int, drivers_df: pd.DataFrame) -> str:\n",
    "    \n",
    "    return drivers_df.loc[drivers_df['driverId']==driverId]['driverRef'].values[0]\n",
    "\n",
    "def get_driver_id(driver_ref: str, drivers_df: pd.DataFrame) -> int:\n",
    "    \n",
    "    return drivers_df.loc[drivers_df['driverRef']==driver_ref]['driverId'].values[0]\n",
    "\n",
    "def driver_finishing_in_top_n(driverId: int, n: int, \n",
    "                              results_df:pd.DataFrame, \n",
    "                              constructor_lite_df:pd.DataFrame):\n",
    "\n",
    "    positions = [float(i) for i in list(range(1, n+1))]\n",
    "    # display(positions)\n",
    "    positions_df = results_df[results_df['position'].isin(positions)]\n",
    "    driver_results_df = positions_df.loc[positions_df['driverId'] == driverId]\n",
    "\n",
    "    wins_per_constructor_df = driver_results_df['constructorId'].value_counts().to_frame()\n",
    "    wins_per_constructor_df = wins_per_constructor_df.reset_index()\n",
    "    wins_per_constructor_df.rename(columns = {'index':'constructorId', 'constructorId':'frequency'}, inplace = True) \n",
    "    wins_per_constructor_df = pd.merge(wins_per_constructor_df, constructor_df_lite, on='constructorId')\n",
    "    wins_per_constructor_df.drop('constructorId', axis=1, inplace=True)\n",
    "    \n",
    "    wins_per_constructor_df.set_index([[get_driver_ref(driverId, drivers_df)]*len(wins_per_constructor_df)], inplace=True)\n",
    "    \n",
    "    return wins_per_constructor_df\n",
    "\n",
    "    \n",
    "display(driver_finishing_in_top_n(get_driver_id('hamilton', drivers_df), 3, results_df, constructor_df_lite))\n",
    "hamilton_podiums = driver_finishing_in_top_n(get_driver_id('hamilton', drivers_df), 3, results_df, constructor_df_lite)\n",
    "display(driver_finishing_in_top_n(get_driver_id('vettel', drivers_df), 3, results_df, constructor_df_lite))\n",
    "display(driver_finishing_in_top_n(get_driver_id('alonso', drivers_df), 3, results_df, constructor_df_lite))\n",
    "\n"
   ]
  },
  {
   "cell_type": "code",
   "execution_count": null,
   "metadata": {},
   "outputs": [],
   "source": [
    "# for drivers active in a particular season, lets see all of their wins and podiums? \n",
    "\n"
   ]
  },
  {
   "cell_type": "code",
   "execution_count": null,
   "metadata": {},
   "outputs": [],
   "source": []
  },
  {
   "cell_type": "code",
   "execution_count": null,
   "metadata": {},
   "outputs": [],
   "source": []
  }
 ],
 "metadata": {
  "kernelspec": {
   "display_name": "Python 3",
   "language": "python",
   "name": "python3"
  },
  "language_info": {
   "codemirror_mode": {
    "name": "ipython",
    "version": 3
   },
   "file_extension": ".py",
   "mimetype": "text/x-python",
   "name": "python",
   "nbconvert_exporter": "python",
   "pygments_lexer": "ipython3",
   "version": "3.7.3"
  }
 },
 "nbformat": 4,
 "nbformat_minor": 4
}
