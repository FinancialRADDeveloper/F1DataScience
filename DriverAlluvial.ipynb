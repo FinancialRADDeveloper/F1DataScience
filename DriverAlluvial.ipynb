{
 "cells": [
  {
   "cell_type": "code",
   "execution_count": null,
   "metadata": {},
   "outputs": [],
   "source": [
    "import os\n",
    "import pandas as pd\n",
    "import numpy as np"
   ]
  },
  {
   "cell_type": "code",
   "execution_count": null,
   "metadata": {},
   "outputs": [],
   "source": [
    "drivers_df = pd.read_csv('F1KaggleData/drivers.csv')\n",
    "races_df = pd.read_csv('F1KaggleData/races.csv')\n",
    "circuits_df = pd.read_csv('F1KaggleData/circuits.csv')\n",
    "results_df = pd.read_csv('F1KaggleData/results.csv')\n"
   ]
  },
  {
   "cell_type": "code",
   "execution_count": null,
   "metadata": {},
   "outputs": [],
   "source": [
    "display(drivers_df.sample(5))\n",
    "# display(races_df.head(5))\n",
    "# display(circuits_df.head(5))\n",
    "# display(results_df.head(5))\n"
   ]
  },
  {
   "cell_type": "code",
   "execution_count": null,
   "metadata": {},
   "outputs": [],
   "source": [
    "drivers_df.loc[drivers_df['driverRef'] == 'hamilton']"
   ]
  },
  {
   "cell_type": "code",
   "execution_count": null,
   "metadata": {},
   "outputs": [],
   "source": [
    "def driver_finishing_in_top_n(driverId: int, n: int, results_df:pd.DataFrame):\n",
    "\n",
    "    positions = [float(i) for i in list(range(1, n+1))]\n",
    "    # display(positions)\n",
    "    positions_df = results_df[results_df['position'].isin(positions)]\n",
    "    return positions_df.loc[positions_df['driverId'] == driverId]\n",
    "    \n",
    "    \n",
    "    \n",
    "driver_results_df = driver_finishing_in_top_n(1, 1, results_df)\n",
    "display(driver_results_df.sample(10))\n",
    "\n",
    "display(driver_results_df['constructorId'].value_counts())\n"
   ]
  },
  {
   "cell_type": "code",
   "execution_count": null,
   "metadata": {},
   "outputs": [],
   "source": [
    "constructor_df = pd.read_csv('F1KaggleData/constructors.csv')"
   ]
  },
  {
   "cell_type": "code",
   "execution_count": null,
   "metadata": {},
   "outputs": [],
   "source": [
    "def get_constructor_name(constructorId: int) -> str:\n",
    "    \n",
    "    pass"
   ]
  },
  {
   "cell_type": "code",
   "execution_count": null,
   "metadata": {},
   "outputs": [],
   "source": []
  }
 ],
 "metadata": {
  "kernelspec": {
   "display_name": "Python 3",
   "language": "python",
   "name": "python3"
  },
  "language_info": {
   "codemirror_mode": {
    "name": "ipython",
    "version": 3
   },
   "file_extension": ".py",
   "mimetype": "text/x-python",
   "name": "python",
   "nbconvert_exporter": "python",
   "pygments_lexer": "ipython3",
   "version": "3.7.3"
  }
 },
 "nbformat": 4,
 "nbformat_minor": 2
}
