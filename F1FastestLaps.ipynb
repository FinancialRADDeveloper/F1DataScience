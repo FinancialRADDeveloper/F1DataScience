{
 "cells": [
  {
   "cell_type": "code",
   "execution_count": null,
   "metadata": {},
   "outputs": [],
   "source": [
    "import os\n",
    "import pandas as pd\n",
    "import numpy as np"
   ]
  },
  {
   "cell_type": "code",
   "execution_count": null,
   "metadata": {},
   "outputs": [],
   "source": [
    "results_df = pd.read_csv('F1KaggleData/results.csv')\n",
    "races_df = pd.read_csv('F1KaggleData/races.csv')\n",
    "drivers_df = pd.read_csv('F1KaggleData/drivers.csv')\n",
    "laptimes_df = pd.read_csv('F1KaggleData/laptimes.csv')\n"
   ]
  },
  {
   "cell_type": "code",
   "execution_count": null,
   "metadata": {
    "scrolled": true
   },
   "outputs": [],
   "source": [
    "display(results_df.sample(20))"
   ]
  },
  {
   "cell_type": "code",
   "execution_count": null,
   "metadata": {},
   "outputs": [],
   "source": [
    "# Find the fastest lap for a given race. \n",
    "\n",
    "def enrich_lap_times(races_df, laptimes_df, drivers_df):\n",
    "\n",
    "    races_narrow_df = races_df[['raceId', 'year', 'name']]\n",
    "    drivers_narrow_df = drivers_df[['driverId','driverRef']]\n",
    "\n",
    "    enriched_laptimes_df = pd.merge(laptimes_df, races_narrow_df, on='raceId')\n",
    "    return pd.merge(enriched_laptimes_df, drivers_narrow_df, on='driverId')\n",
    "\n",
    "\n",
    "enriched_laptimes_df = enrich_lap_times(races_df, laptimes_df, drivers_df)\n",
    "\n",
    "display(enriched_laptimes_df.sample(10))"
   ]
  },
  {
   "cell_type": "code",
   "execution_count": null,
   "metadata": {},
   "outputs": [],
   "source": [
    "fastest_laps = enriched_laptimes_df.loc[enriched_laptimes_df.groupby(['year', 'name'])['milliseconds'].idxmin()]\n",
    "\n",
    "pd.set_option('display.max_rows', 100)\n",
    "\n",
    "fastest_laps_minimal = fastest_laps[['year','name','driverRef', 'milliseconds']]\n",
    "\n",
    "# display(fastest_laps_minimal)\n",
    "display(fastest_laps_minimal.loc[fastest_laps_minimal['year'] == 1996])\n",
    "# display(fastest_laps_minimal)"
   ]
  },
  {
   "cell_type": "code",
   "execution_count": null,
   "metadata": {},
   "outputs": [],
   "source": [
    "import copy\n",
    "\n",
    "multi_index_fast_laps = copy.copy(fastest_laps_minimal).set_index(['year', 'name'])\n"
   ]
  },
  {
   "cell_type": "code",
   "execution_count": null,
   "metadata": {},
   "outputs": [],
   "source": [
    "display(multi_index_fast_laps.loc[1998])"
   ]
  },
  {
   "cell_type": "code",
   "execution_count": null,
   "metadata": {
    "scrolled": false
   },
   "outputs": [],
   "source": [
    "from ipywidgets import interact, interact_manual\n",
    "\n",
    "@interact\n",
    "def display_fastest_laps_for_year(year=(1996, 2014, 1)):\n",
    "    \n",
    "    if year not in multi_index_fast_laps.index:\n",
    "        return 'No fastest laps data available for: {}'.format(year)\n",
    "    else:\n",
    "        fastest_laps_for_year = multi_index_fast_laps.loc[year]['driverRef'].value_counts().to_frame()\n",
    "        fastest_laps_for_year.rename(columns = {'driverRef':'FastestLaps'}, inplace = True)\n",
    "        return fastest_laps_for_year\n",
    "    \n",
    "    \n"
   ]
  },
  {
   "cell_type": "code",
   "execution_count": null,
   "metadata": {},
   "outputs": [],
   "source": [
    "display(display_fastest_laps_for_year(1998))"
   ]
  },
  {
   "cell_type": "code",
   "execution_count": null,
   "metadata": {},
   "outputs": [],
   "source": [
    "from __future__ import print_function\n",
    "from ipywidgets import interact, interactive, fixed, interact_manual\n",
    "import ipywidgets as widgets\n",
    "\n"
   ]
  },
  {
   "cell_type": "code",
   "execution_count": null,
   "metadata": {},
   "outputs": [],
   "source": [
    "# display(multi_index_fast_laps.sample(20))\n",
    "def get_fastest_laps_for_circuit(name):\n",
    "\n",
    "    fastest_laps_for_circuit = copy.copy(multi_index_fast_laps.loc[pd.IndexSlice[:, name], :])\n",
    "    fastest_laps_for_circuit['time'] = pd.to_timedelta(fastest_laps_for_circuit['milliseconds'], unit='ms')\n",
    "    \n",
    "    return fastest_laps_for_circuit\n",
    "    \n",
    "    \n",
    "circuits = multi_index_fast_laps.index.get_level_values('name').unique().to_list()\n",
    "\n",
    "interact(get_fastest_laps_for_circuit, name=circuits)"
   ]
  },
  {
   "cell_type": "code",
   "execution_count": null,
   "metadata": {},
   "outputs": [],
   "source": [
    "def graph_fastest_laps(name):\n",
    "    \n",
    "    fastest_laps_for_circuit = get_fastest_laps_for_circuit(name)\n",
    "    fastest_laps_for_circuit.drop(['driverRef', 'milliseconds'], axis=1, inplace=True)\n",
    "    fastest_laps_for_circuit.reset_index(level='name', inplace=True, drop=True)\n",
    "    \n",
    "    fastest_laps_for_circuit.plot()\n",
    "    \n",
    "    display(fastest_laps_for_circuit)\n",
    "    \n",
    "# graph_fastest_laps('Monaco Grand Prix')\n",
    "\n",
    "\n",
    "interact(graph_fastest_laps, name=circuits)"
   ]
  },
  {
   "cell_type": "markdown",
   "metadata": {},
   "source": [
    "ideas\n",
    "\n",
    "Dominance, teams of Mercedes, REdBull, McLaren etc and show wins per season over the last 20y\n",
    "\n",
    "driver wins, fastest laps, coloured byteam\n",
    "\n",
    "show non top 3 team podiums -. ie. basically none\n",
    "\n",
    "downfall of Williams\n",
    "\n",
    "mid table... see how that seems more competitive\n",
    "\n",
    "back marker teams... who picked up what points... \n",
    "\n",
    "points allocated to the non Top3 teams... "
   ]
  }
 ],
 "metadata": {
  "kernelspec": {
   "display_name": "Python 3",
   "language": "python",
   "name": "python3"
  },
  "language_info": {
   "codemirror_mode": {
    "name": "ipython",
    "version": 3
   },
   "file_extension": ".py",
   "mimetype": "text/x-python",
   "name": "python",
   "nbconvert_exporter": "python",
   "pygments_lexer": "ipython3",
   "version": "3.7.3"
  }
 },
 "nbformat": 4,
 "nbformat_minor": 4
}
