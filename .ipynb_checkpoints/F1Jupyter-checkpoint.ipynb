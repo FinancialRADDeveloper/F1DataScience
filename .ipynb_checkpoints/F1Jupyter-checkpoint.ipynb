{
 "cells": [
  {
   "cell_type": "code",
   "execution_count": null,
   "metadata": {},
   "outputs": [],
   "source": [
    "import os\n",
    "import pandas as pd\n",
    "import numpy as np\n"
   ]
  },
  {
   "cell_type": "code",
   "execution_count": null,
   "metadata": {},
   "outputs": [],
   "source": [
    "drivers_df = pd.read_csv('F1KaggleData/drivers.csv')\n",
    "races_df = pd.read_csv('F1KaggleData/races.csv')\n",
    "circuits_df = pd.read_csv('F1KaggleData/circuits.csv')\n",
    "results_df = pd.read_csv('F1KaggleData/results.csv')\n"
   ]
  },
  {
   "cell_type": "code",
   "execution_count": null,
   "metadata": {},
   "outputs": [],
   "source": [
    "display(drivers_df.head(5))\n",
    "display(races_df.head(5))\n",
    "display(circuits_df.head(5))\n",
    "display(results_df.head(5))\n"
   ]
  },
  {
   "cell_type": "code",
   "execution_count": null,
   "metadata": {},
   "outputs": [],
   "source": [
    "display('Total Number of Circuits used in F1: {}'.format(circuits_df['circuitId'].max()))\n",
    "display('Total Drivers in F1: {}'.format(drivers_df['driverId'].max()))\n"
   ]
  },
  {
   "cell_type": "markdown",
   "metadata": {},
   "source": [
    "Drivers with a win?  \n",
    "\n",
    "How do we work this out... "
   ]
  },
  {
   "cell_type": "code",
   "execution_count": null,
   "metadata": {},
   "outputs": [],
   "source": [
    "wins_df = results_df.loc[results_df['position'] == 1.0]\n",
    "\n",
    "display(wins_df.sample(10))\n",
    "\n",
    "drivers_with_wins = wins_df['driverId'].unique()\n",
    "\n",
    "display(drivers_with_wins)\n",
    "\n",
    "display('{} drivers in F1 have won a race'.format(len(drivers_with_wins)))\n",
    "\n",
    "names_of_drivers_with_wins = drivers_df[['driverRef', 'nationality']].loc[drivers_df['driverId'].isin(drivers_with_wins)]\n",
    "\n",
    "display(names_of_drivers_with_wins)"
   ]
  },
  {
   "cell_type": "code",
   "execution_count": null,
   "metadata": {},
   "outputs": [],
   "source": [
    "# can we get a pie chart of the nationality breakdown\n",
    "\n",
    "winners_by_nationality = names_of_drivers_with_wins['nationality'].value_counts()\n",
    "\n",
    "display(winners_by_nationality)\n",
    "\n",
    "names_of_drivers_with_wins['nationality'].value_counts().plot.pie(subplots=True)\n",
    "\n",
    "\n"
   ]
  },
  {
   "cell_type": "code",
   "execution_count": null,
   "metadata": {},
   "outputs": [],
   "source": [
    "# ok, lets try winners by decade here. \n",
    "\n",
    "# however lets do this via some dictionary comprehension \n",
    "\n",
    "# pandas first\n",
    "display(results_df.head(5))\n",
    "# display(races_df.head(5))\n",
    "\n",
    "first_race = races_df['date'].min()\n",
    "display('Date of First Race in dataset: {}'.format(first_race))\n",
    "last_race = races_df['date'].max()\n",
    "display('Date of Last Race in dataset: {}'.format(last_race))\n",
    "\n",
    "# sort it becuase this current format hurts my brain \n",
    "races_df.sort_values(by=['date'], inplace=True)\n",
    "display(races_df.head(5))\n",
    "list_of_dates = races_df['date'].values\n",
    "# display(list_of_dates)"
   ]
  },
  {
   "cell_type": "code",
   "execution_count": null,
   "metadata": {},
   "outputs": [],
   "source": [
    "# display(results_df.head(10))\n",
    "\n",
    "winner_of_each_race_df = results_df.loc[results_df['position'] == 1.0]\n",
    "winners = set(winner_of_each_race_df['driverId'].to_list())\n",
    "display(winner_of_each_race_df.head(5))\n",
    "count_of_wins_per_driver = winner_of_each_race_df['driverId'].value_counts()\n",
    "display(count_of_wins_per_driver)\n",
    "display(winners)"
   ]
  },
  {
   "cell_type": "code",
   "execution_count": null,
   "metadata": {},
   "outputs": [],
   "source": [
    "# now lets join the data from the results df and the drivers_df \n",
    "\n",
    "winner_code = drivers_df.loc[drivers_df['driverId'].isin(winner_of_each_race_df['driverId'].unique())][['driverId','driverRef']]\n",
    "\n",
    "# display(winner_of_each_race_df['driverId'].unique())\n",
    "display(winner_code)"
   ]
  },
  {
   "cell_type": "code",
   "execution_count": null,
   "metadata": {},
   "outputs": [],
   "source": [
    "comb = pd.merge(winner_code, winner_of_each_race_df)\n",
    "\n",
    "comb2 = pd.merge(winner_code, winner_of_each_race_df, on='driverId')\n",
    "\n",
    "display(comb2)\n",
    "x = comb.driverRef.value_counts()\n",
    "\n",
    "display(x)\n",
    "display(type(x))"
   ]
  },
  {
   "cell_type": "code",
   "execution_count": null,
   "metadata": {},
   "outputs": [],
   "source": [
    "# Select to see wins by driver drop down \n",
    "\n",
    "import ipywidgets as widgets\n",
    "from IPython.display import clear_output\n",
    "\n",
    "f1_winner_dropdown = widgets.Dropdown(\n",
    "                                    options=winner_code['driverRef'].to_list(),\n",
    "                                    value=None,\n",
    "                                    description='Select F1 Winner: ',\n",
    "                                    disabled=False,\n",
    "                                    )\n",
    "\n",
    "\n",
    "\n",
    "# now lets restrict the results purely to them \n",
    "\n",
    "display(f1_winner_dropdown)\n",
    "\n",
    "out = widgets.Output()\n",
    "display(out)\n",
    "\n",
    "\n",
    "\n",
    "f1_winner_dropdown.observe(f1_winner_dropdown_eventhandler, names='value')\n",
    "\n",
    "def f1_winner_dropdown_eventhandler(change):\n",
    "\n",
    "    with out:\n",
    "        clear_output()\n",
    "        selected_driver_id = int(winner_code.loc[winner_code['driverRef'] == change.new]['driverId'])\n",
    "        display(selected_driver_id)\n",
    "        display(results_df.loc[(results_df['driverId']== selected_driver_id) & (results_df['position'] == 1.0)])\n",
    "\n",
    "\n",
    "\n",
    "\n"
   ]
  },
  {
   "cell_type": "code",
   "execution_count": null,
   "metadata": {},
   "outputs": [],
   "source": [
    "# now I want to see the number of different winners per decade \n",
    "\n",
    "# display(drivers_df.head(5))\n",
    "# display(races_df.head(5))\n",
    "# display(circuits_df.head(5))\n",
    "# display(results_df.head(5))\n",
    "\n",
    "# ok, lets take the races and then see if we can do something with the series. \n",
    "races_df['datetime'] = pd.to_datetime(races_df['date'])\n",
    "races_df.set_index('datetime', inplace=True)\n",
    "races_df.sort_index(axis = 0, inplace=True) \n",
    "# isplay(races_df.head(5))\n",
    "\n",
    "# now we need to go and find the winner for each one and add it.\n",
    "\n",
    "cut_down_results = results_df[['raceId', 'driverId']].loc[results_df['positionText'] == '1']\n",
    "# display(cut_down_results.head(5))\n",
    "\n",
    "answer_df = pd.merge(races_df, cut_down_results, on='raceId')\n",
    "answer_df = pd.merge(answer_df, drivers_df[['driverId', 'driverRef']], on='driverId')\n",
    "answer_df.sort_values(by='date', inplace=True, ascending=True)\n",
    "display(answer_df.head(10))\n",
    "display(drivers_df.head(5))\n",
    "\n"
   ]
  }
 ],
 "metadata": {
  "kernelspec": {
   "display_name": "Python 3",
   "language": "python",
   "name": "python3"
  },
  "language_info": {
   "codemirror_mode": {
    "name": "ipython",
    "version": 3
   },
   "file_extension": ".py",
   "mimetype": "text/x-python",
   "name": "python",
   "nbconvert_exporter": "python",
   "pygments_lexer": "ipython3",
   "version": "3.7.3"
  }
 },
 "nbformat": 4,
 "nbformat_minor": 1
}
