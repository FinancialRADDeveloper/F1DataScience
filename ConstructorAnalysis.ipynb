{
 "cells": [
  {
   "cell_type": "code",
   "execution_count": null,
   "metadata": {},
   "outputs": [],
   "source": [
    "import os\n",
    "import pandas as pd\n",
    "import numpy as np"
   ]
  },
  {
   "cell_type": "code",
   "execution_count": null,
   "metadata": {},
   "outputs": [],
   "source": [
    "drivers_df = pd.read_csv('F1KaggleData/drivers.csv')\n",
    "races_df = pd.read_csv('F1KaggleData/races.csv')\n",
    "circuits_df = pd.read_csv('F1KaggleData/circuits.csv')\n",
    "results_df = pd.read_csv('F1KaggleData/results.csv')\n",
    "constructor_df = pd.read_csv('F1KaggleData/constructors.csv')\n"
   ]
  },
  {
   "cell_type": "code",
   "execution_count": null,
   "metadata": {},
   "outputs": [],
   "source": [
    "constructor_df.set_index('constructorRef', drop=False, inplace=True)\n",
    "constructor_df.drop(['Unnamed: 5'], axis=1, inplace=True)\n",
    "display(constructor_df.sample(10))\n",
    "\n",
    "# constructor_df.describe()\n",
    "\n",
    "display(constructor_df.loc['mclaren'])"
   ]
  },
  {
   "cell_type": "code",
   "execution_count": null,
   "metadata": {},
   "outputs": [],
   "source": [
    "\n",
    "# display(results_df.sample(10))\n",
    "\n",
    "def constructor_finishes_in_top_n(n:int, results_df: pd.DataFrame):\n",
    "    \n",
    "    positions = [float(i) for i in list(range(1, n+1))]\n",
    "    # display(positions)\n",
    "    positions_df = results_df[results_df['position'].isin(positions)]\n",
    "    \n",
    "    # display(positions_df.sample(10))\n",
    "    \n",
    "    results_per_constructor_df = positions_df['constructorId'].value_counts().to_frame()\n",
    "    \n",
    "    constructor_df_lite = constructor_df[['constructorId', 'constructorRef']]\n",
    "    \n",
    "    results_per_constructor_df = results_per_constructor_df.reset_index()\n",
    "    results_per_constructor_df.rename(columns = {'index':'constructorId', 'constructorId':'frequency'}, inplace = True) \n",
    "    results_per_constructor_df = pd.merge(results_per_constructor_df, constructor_df_lite, on='constructorId')\n",
    "    results_per_constructor_df.drop('constructorId', axis=1, inplace=True)\n",
    "    \n",
    "    \n",
    "    return results_per_constructor_df\n",
    "    \n",
    "display(constructor_finishes_in_top_n(1, results_df))\n"
   ]
  },
  {
   "cell_type": "code",
   "execution_count": null,
   "metadata": {},
   "outputs": [],
   "source": []
  }
 ],
 "metadata": {
  "kernelspec": {
   "display_name": "Python 3",
   "language": "python",
   "name": "python3"
  },
  "language_info": {
   "codemirror_mode": {
    "name": "ipython",
    "version": 3
   },
   "file_extension": ".py",
   "mimetype": "text/x-python",
   "name": "python",
   "nbconvert_exporter": "python",
   "pygments_lexer": "ipython3",
   "version": "3.7.3"
  }
 },
 "nbformat": 4,
 "nbformat_minor": 2
}
